{
 "cells": [
  {
   "cell_type": "markdown",
   "id": "36d7d5fb",
   "metadata": {},
   "source": [
    "#### Problem Objective:  Match similar products from the Flipkart dataset with the Amazon dataset. Once similar products are matched, display the retail price from FK and AMZ side by side.\n",
    "                          "
   ]
  },
  {
   "cell_type": "markdown",
   "id": "12e53530",
   "metadata": {},
   "source": [
    "### Importing Libraries "
   ]
  },
  {
   "cell_type": "code",
   "execution_count": 1,
   "id": "afcca571",
   "metadata": {},
   "outputs": [],
   "source": [
    "import pandas as pd\n",
    "import numpy as np"
   ]
  },
  {
   "cell_type": "markdown",
   "id": "af4cb5a6",
   "metadata": {},
   "source": [
    "### Loading Flipkart Dataset "
   ]
  },
  {
   "cell_type": "code",
   "execution_count": 2,
   "id": "0948cae1",
   "metadata": {},
   "outputs": [
    {
     "data": {
      "text/html": [
       "<div>\n",
       "<style scoped>\n",
       "    .dataframe tbody tr th:only-of-type {\n",
       "        vertical-align: middle;\n",
       "    }\n",
       "\n",
       "    .dataframe tbody tr th {\n",
       "        vertical-align: top;\n",
       "    }\n",
       "\n",
       "    .dataframe thead th {\n",
       "        text-align: right;\n",
       "    }\n",
       "</style>\n",
       "<table border=\"1\" class=\"dataframe\">\n",
       "  <thead>\n",
       "    <tr style=\"text-align: right;\">\n",
       "      <th></th>\n",
       "      <th>uniq_id</th>\n",
       "      <th>crawl_timestamp</th>\n",
       "      <th>product_url</th>\n",
       "      <th>product_name</th>\n",
       "      <th>product_category_tree</th>\n",
       "      <th>pid</th>\n",
       "      <th>retail_price</th>\n",
       "      <th>discounted_price</th>\n",
       "      <th>image</th>\n",
       "      <th>is_FK_Advantage_product</th>\n",
       "      <th>description</th>\n",
       "      <th>product_rating</th>\n",
       "      <th>overall_rating</th>\n",
       "      <th>brand</th>\n",
       "      <th>product_specifications</th>\n",
       "    </tr>\n",
       "  </thead>\n",
       "  <tbody>\n",
       "    <tr>\n",
       "      <th>0</th>\n",
       "      <td>c2d766ca982eca8304150849735ffef9</td>\n",
       "      <td>2016-03-25 22:59:23 +0000</td>\n",
       "      <td>http://www.flipkart.com/alisha-solid-women-s-c...</td>\n",
       "      <td>Alisha Solid Women's Cycling Shorts</td>\n",
       "      <td>[\"Clothing &gt;&gt; Women's Clothing &gt;&gt; Lingerie, Sl...</td>\n",
       "      <td>SRTEH2FF9KEDEFGF</td>\n",
       "      <td>999.0</td>\n",
       "      <td>379.0</td>\n",
       "      <td>[\"http://img5a.flixcart.com/image/short/u/4/a/...</td>\n",
       "      <td>False</td>\n",
       "      <td>Key Features of Alisha Solid Women's Cycling S...</td>\n",
       "      <td>No rating available</td>\n",
       "      <td>No rating available</td>\n",
       "      <td>Alisha</td>\n",
       "      <td>{\"product_specification\"=&gt;[{\"key\"=&gt;\"Number of ...</td>\n",
       "    </tr>\n",
       "    <tr>\n",
       "      <th>1</th>\n",
       "      <td>7f7036a6d550aaa89d34c77bd39a5e48</td>\n",
       "      <td>2016-03-25 22:59:23 +0000</td>\n",
       "      <td>http://www.flipkart.com/fabhomedecor-fabric-do...</td>\n",
       "      <td>FabHomeDecor Fabric Double Sofa Bed</td>\n",
       "      <td>[\"Furniture &gt;&gt; Living Room Furniture &gt;&gt; Sofa B...</td>\n",
       "      <td>SBEEH3QGU7MFYJFY</td>\n",
       "      <td>32157.0</td>\n",
       "      <td>22646.0</td>\n",
       "      <td>[\"http://img6a.flixcart.com/image/sofa-bed/j/f...</td>\n",
       "      <td>False</td>\n",
       "      <td>FabHomeDecor Fabric Double Sofa Bed (Finish Co...</td>\n",
       "      <td>No rating available</td>\n",
       "      <td>No rating available</td>\n",
       "      <td>FabHomeDecor</td>\n",
       "      <td>{\"product_specification\"=&gt;[{\"key\"=&gt;\"Installati...</td>\n",
       "    </tr>\n",
       "  </tbody>\n",
       "</table>\n",
       "</div>"
      ],
      "text/plain": [
       "                            uniq_id            crawl_timestamp  \\\n",
       "0  c2d766ca982eca8304150849735ffef9  2016-03-25 22:59:23 +0000   \n",
       "1  7f7036a6d550aaa89d34c77bd39a5e48  2016-03-25 22:59:23 +0000   \n",
       "\n",
       "                                         product_url  \\\n",
       "0  http://www.flipkart.com/alisha-solid-women-s-c...   \n",
       "1  http://www.flipkart.com/fabhomedecor-fabric-do...   \n",
       "\n",
       "                          product_name  \\\n",
       "0  Alisha Solid Women's Cycling Shorts   \n",
       "1  FabHomeDecor Fabric Double Sofa Bed   \n",
       "\n",
       "                               product_category_tree               pid  \\\n",
       "0  [\"Clothing >> Women's Clothing >> Lingerie, Sl...  SRTEH2FF9KEDEFGF   \n",
       "1  [\"Furniture >> Living Room Furniture >> Sofa B...  SBEEH3QGU7MFYJFY   \n",
       "\n",
       "   retail_price  discounted_price  \\\n",
       "0         999.0             379.0   \n",
       "1       32157.0           22646.0   \n",
       "\n",
       "                                               image  is_FK_Advantage_product  \\\n",
       "0  [\"http://img5a.flixcart.com/image/short/u/4/a/...                    False   \n",
       "1  [\"http://img6a.flixcart.com/image/sofa-bed/j/f...                    False   \n",
       "\n",
       "                                         description       product_rating  \\\n",
       "0  Key Features of Alisha Solid Women's Cycling S...  No rating available   \n",
       "1  FabHomeDecor Fabric Double Sofa Bed (Finish Co...  No rating available   \n",
       "\n",
       "        overall_rating         brand  \\\n",
       "0  No rating available        Alisha   \n",
       "1  No rating available  FabHomeDecor   \n",
       "\n",
       "                              product_specifications  \n",
       "0  {\"product_specification\"=>[{\"key\"=>\"Number of ...  \n",
       "1  {\"product_specification\"=>[{\"key\"=>\"Installati...  "
      ]
     },
     "execution_count": 2,
     "metadata": {},
     "output_type": "execute_result"
    }
   ],
   "source": [
    "flipkart = pd.read_csv(\"flipkart_com-ecommerce_sample.csv\")\n",
    "flipkart.head(2)"
   ]
  },
  {
   "cell_type": "code",
   "execution_count": 3,
   "id": "7607eff1",
   "metadata": {},
   "outputs": [],
   "source": [
    "# lets check the sample product name which was given in example whether it is in flipkart data"
   ]
  },
  {
   "cell_type": "code",
   "execution_count": 4,
   "id": "140e4aa0",
   "metadata": {},
   "outputs": [
    {
     "data": {
      "text/html": [
       "<div>\n",
       "<style scoped>\n",
       "    .dataframe tbody tr th:only-of-type {\n",
       "        vertical-align: middle;\n",
       "    }\n",
       "\n",
       "    .dataframe tbody tr th {\n",
       "        vertical-align: top;\n",
       "    }\n",
       "\n",
       "    .dataframe thead th {\n",
       "        text-align: right;\n",
       "    }\n",
       "</style>\n",
       "<table border=\"1\" class=\"dataframe\">\n",
       "  <thead>\n",
       "    <tr style=\"text-align: right;\">\n",
       "      <th></th>\n",
       "      <th>uniq_id</th>\n",
       "      <th>crawl_timestamp</th>\n",
       "      <th>product_url</th>\n",
       "      <th>product_name</th>\n",
       "      <th>product_category_tree</th>\n",
       "      <th>pid</th>\n",
       "      <th>retail_price</th>\n",
       "      <th>discounted_price</th>\n",
       "      <th>image</th>\n",
       "      <th>is_FK_Advantage_product</th>\n",
       "      <th>description</th>\n",
       "      <th>product_rating</th>\n",
       "      <th>overall_rating</th>\n",
       "      <th>brand</th>\n",
       "      <th>product_specifications</th>\n",
       "    </tr>\n",
       "  </thead>\n",
       "  <tbody>\n",
       "    <tr>\n",
       "      <th>28</th>\n",
       "      <td>171e0bcea390c17fd70e3ffa6c2cd187</td>\n",
       "      <td>2016-01-03 20:56:50 +0000</td>\n",
       "      <td>http://www.flipkart.com/fdt-women-s-leggings/p...</td>\n",
       "      <td>FDT Women's Leggings</td>\n",
       "      <td>[\"Clothing &gt;&gt; Women's Clothing &gt;&gt; Fusion Wear ...</td>\n",
       "      <td>LJGEB2KMCMMHHFC7</td>\n",
       "      <td>699.0</td>\n",
       "      <td>309.0</td>\n",
       "      <td>[\"http://img6a.flixcart.com/image/legging-jegg...</td>\n",
       "      <td>False</td>\n",
       "      <td>FDT Women's Leggings - Buy Parrot Green FDT Wo...</td>\n",
       "      <td>No rating available</td>\n",
       "      <td>No rating available</td>\n",
       "      <td>NaN</td>\n",
       "      <td>{\"product_specification\"=&gt;[{\"key\"=&gt;\"Number of ...</td>\n",
       "    </tr>\n",
       "  </tbody>\n",
       "</table>\n",
       "</div>"
      ],
      "text/plain": [
       "                             uniq_id            crawl_timestamp  \\\n",
       "28  171e0bcea390c17fd70e3ffa6c2cd187  2016-01-03 20:56:50 +0000   \n",
       "\n",
       "                                          product_url          product_name  \\\n",
       "28  http://www.flipkart.com/fdt-women-s-leggings/p...  FDT Women's Leggings   \n",
       "\n",
       "                                product_category_tree               pid  \\\n",
       "28  [\"Clothing >> Women's Clothing >> Fusion Wear ...  LJGEB2KMCMMHHFC7   \n",
       "\n",
       "    retail_price  discounted_price  \\\n",
       "28         699.0             309.0   \n",
       "\n",
       "                                                image  \\\n",
       "28  [\"http://img6a.flixcart.com/image/legging-jegg...   \n",
       "\n",
       "    is_FK_Advantage_product  \\\n",
       "28                    False   \n",
       "\n",
       "                                          description       product_rating  \\\n",
       "28  FDT Women's Leggings - Buy Parrot Green FDT Wo...  No rating available   \n",
       "\n",
       "         overall_rating brand  \\\n",
       "28  No rating available   NaN   \n",
       "\n",
       "                               product_specifications  \n",
       "28  {\"product_specification\"=>[{\"key\"=>\"Number of ...  "
      ]
     },
     "execution_count": 4,
     "metadata": {},
     "output_type": "execute_result"
    }
   ],
   "source": [
    "flipkart[flipkart.product_name == \"FDT Women's Leggings\"]"
   ]
  },
  {
   "cell_type": "code",
   "execution_count": 5,
   "id": "43fda478",
   "metadata": {},
   "outputs": [],
   "source": [
    "# Renaming the required columns in flipkart dataset "
   ]
  },
  {
   "cell_type": "code",
   "execution_count": 6,
   "id": "e899fcea",
   "metadata": {},
   "outputs": [],
   "source": [
    "flipkart.rename(columns = {'product_name':'product_name_in_flipkart'}, inplace = True)\n",
    "flipkart.rename(columns = {'retail_price':'retail_price_in_flipkart'}, inplace = True)\n",
    "flipkart.rename(columns = {'discounted_price':'discounted_price_in_flipkart'}, inplace = True)"
   ]
  },
  {
   "cell_type": "code",
   "execution_count": 7,
   "id": "7a62e98a",
   "metadata": {},
   "outputs": [
    {
     "data": {
      "text/plain": [
       "uniq_id                            0\n",
       "crawl_timestamp                    0\n",
       "product_url                        0\n",
       "product_name_in_flipkart           0\n",
       "product_category_tree              0\n",
       "pid                                0\n",
       "retail_price_in_flipkart          78\n",
       "discounted_price_in_flipkart      78\n",
       "image                              3\n",
       "is_FK_Advantage_product            0\n",
       "description                        2\n",
       "product_rating                     0\n",
       "overall_rating                     0\n",
       "brand                           5864\n",
       "product_specifications            14\n",
       "dtype: int64"
      ]
     },
     "execution_count": 7,
     "metadata": {},
     "output_type": "execute_result"
    }
   ],
   "source": [
    "# Checking missing values\n",
    "flipkart.isnull().sum()"
   ]
  },
  {
   "cell_type": "markdown",
   "id": "9edb957b",
   "metadata": {},
   "source": [
    "#### Missing value imputation "
   ]
  },
  {
   "cell_type": "code",
   "execution_count": 8,
   "id": "bacd018d",
   "metadata": {},
   "outputs": [],
   "source": [
    "flipkart['retail_price_in_flipkart'].fillna(flipkart['retail_price_in_flipkart'].median(),inplace = True)\n",
    "flipkart['discounted_price_in_flipkart'].fillna(flipkart['discounted_price_in_flipkart'].median(),inplace = True)"
   ]
  },
  {
   "cell_type": "markdown",
   "id": "c847fb77",
   "metadata": {},
   "source": [
    "### Loading Amazon Dataset "
   ]
  },
  {
   "cell_type": "code",
   "execution_count": 9,
   "id": "83eb626e",
   "metadata": {},
   "outputs": [
    {
     "data": {
      "text/html": [
       "<div>\n",
       "<style scoped>\n",
       "    .dataframe tbody tr th:only-of-type {\n",
       "        vertical-align: middle;\n",
       "    }\n",
       "\n",
       "    .dataframe tbody tr th {\n",
       "        vertical-align: top;\n",
       "    }\n",
       "\n",
       "    .dataframe thead th {\n",
       "        text-align: right;\n",
       "    }\n",
       "</style>\n",
       "<table border=\"1\" class=\"dataframe\">\n",
       "  <thead>\n",
       "    <tr style=\"text-align: right;\">\n",
       "      <th></th>\n",
       "      <th>uniq_id</th>\n",
       "      <th>crawl_timestamp</th>\n",
       "      <th>product_url</th>\n",
       "      <th>product_name</th>\n",
       "      <th>product_category_tree</th>\n",
       "      <th>pid</th>\n",
       "      <th>retail_price</th>\n",
       "      <th>discounted_price</th>\n",
       "      <th>image</th>\n",
       "      <th>is_FK_Advantage_product</th>\n",
       "      <th>description</th>\n",
       "      <th>product_rating</th>\n",
       "      <th>overall_rating</th>\n",
       "      <th>brand</th>\n",
       "      <th>product_specifications</th>\n",
       "    </tr>\n",
       "  </thead>\n",
       "  <tbody>\n",
       "    <tr>\n",
       "      <th>0</th>\n",
       "      <td>c2d766ca982eca8304150849735ffef9</td>\n",
       "      <td>2016-03-25 22:59:23 +0000</td>\n",
       "      <td>http://www.flipkart.com/alisha-solid-women-s-c...</td>\n",
       "      <td>Alisha Solid Women's Cycling Shorts</td>\n",
       "      <td>[\"Clothing &gt;&gt; Women's Clothing &gt;&gt; Lingerie, Sl...</td>\n",
       "      <td>SRTEH2FF9KEDEFGF</td>\n",
       "      <td>982</td>\n",
       "      <td>438</td>\n",
       "      <td>[\"http://img5a.flixcart.com/image/short/u/4/a/...</td>\n",
       "      <td>False</td>\n",
       "      <td>Key Features of Alisha Solid Women's Cycling S...</td>\n",
       "      <td>No rating available</td>\n",
       "      <td>No rating available</td>\n",
       "      <td>Alisha</td>\n",
       "      <td>{\"product_specification\"=&gt;[{\"key\"=&gt;\"Number of ...</td>\n",
       "    </tr>\n",
       "    <tr>\n",
       "      <th>1</th>\n",
       "      <td>7f7036a6d550aaa89d34c77bd39a5e48</td>\n",
       "      <td>2016-03-25 22:59:23 +0000</td>\n",
       "      <td>http://www.flipkart.com/fabhomedecor-fabric-do...</td>\n",
       "      <td>FabHomeDecor Fabric Double Sofa Bed</td>\n",
       "      <td>[\"Furniture &gt;&gt; Living Room Furniture &gt;&gt; Sofa B...</td>\n",
       "      <td>SBEEH3QGU7MFYJFY</td>\n",
       "      <td>32143</td>\n",
       "      <td>29121</td>\n",
       "      <td>[\"http://img6a.flixcart.com/image/sofa-bed/j/f...</td>\n",
       "      <td>False</td>\n",
       "      <td>FabHomeDecor Fabric Double Sofa Bed (Finish Co...</td>\n",
       "      <td>No rating available</td>\n",
       "      <td>No rating available</td>\n",
       "      <td>FabHomeDecor</td>\n",
       "      <td>{\"product_specification\"=&gt;[{\"key\"=&gt;\"Installati...</td>\n",
       "    </tr>\n",
       "  </tbody>\n",
       "</table>\n",
       "</div>"
      ],
      "text/plain": [
       "                            uniq_id            crawl_timestamp  \\\n",
       "0  c2d766ca982eca8304150849735ffef9  2016-03-25 22:59:23 +0000   \n",
       "1  7f7036a6d550aaa89d34c77bd39a5e48  2016-03-25 22:59:23 +0000   \n",
       "\n",
       "                                         product_url  \\\n",
       "0  http://www.flipkart.com/alisha-solid-women-s-c...   \n",
       "1  http://www.flipkart.com/fabhomedecor-fabric-do...   \n",
       "\n",
       "                          product_name  \\\n",
       "0  Alisha Solid Women's Cycling Shorts   \n",
       "1  FabHomeDecor Fabric Double Sofa Bed   \n",
       "\n",
       "                               product_category_tree               pid  \\\n",
       "0  [\"Clothing >> Women's Clothing >> Lingerie, Sl...  SRTEH2FF9KEDEFGF   \n",
       "1  [\"Furniture >> Living Room Furniture >> Sofa B...  SBEEH3QGU7MFYJFY   \n",
       "\n",
       "   retail_price  discounted_price  \\\n",
       "0           982               438   \n",
       "1         32143             29121   \n",
       "\n",
       "                                               image  is_FK_Advantage_product  \\\n",
       "0  [\"http://img5a.flixcart.com/image/short/u/4/a/...                    False   \n",
       "1  [\"http://img6a.flixcart.com/image/sofa-bed/j/f...                    False   \n",
       "\n",
       "                                         description       product_rating  \\\n",
       "0  Key Features of Alisha Solid Women's Cycling S...  No rating available   \n",
       "1  FabHomeDecor Fabric Double Sofa Bed (Finish Co...  No rating available   \n",
       "\n",
       "        overall_rating         brand  \\\n",
       "0  No rating available        Alisha   \n",
       "1  No rating available  FabHomeDecor   \n",
       "\n",
       "                              product_specifications  \n",
       "0  {\"product_specification\"=>[{\"key\"=>\"Number of ...  \n",
       "1  {\"product_specification\"=>[{\"key\"=>\"Installati...  "
      ]
     },
     "execution_count": 9,
     "metadata": {},
     "output_type": "execute_result"
    }
   ],
   "source": [
    "amazon = pd.read_csv(\"amz_com-ecommerce_sample.csv\")\n",
    "amazon.head(2)"
   ]
  },
  {
   "cell_type": "code",
   "execution_count": 10,
   "id": "4ddbed22",
   "metadata": {},
   "outputs": [
    {
     "data": {
      "text/html": [
       "<div>\n",
       "<style scoped>\n",
       "    .dataframe tbody tr th:only-of-type {\n",
       "        vertical-align: middle;\n",
       "    }\n",
       "\n",
       "    .dataframe tbody tr th {\n",
       "        vertical-align: top;\n",
       "    }\n",
       "\n",
       "    .dataframe thead th {\n",
       "        text-align: right;\n",
       "    }\n",
       "</style>\n",
       "<table border=\"1\" class=\"dataframe\">\n",
       "  <thead>\n",
       "    <tr style=\"text-align: right;\">\n",
       "      <th></th>\n",
       "      <th>uniq_id</th>\n",
       "      <th>crawl_timestamp</th>\n",
       "      <th>product_url</th>\n",
       "      <th>product_name</th>\n",
       "      <th>product_category_tree</th>\n",
       "      <th>pid</th>\n",
       "      <th>retail_price</th>\n",
       "      <th>discounted_price</th>\n",
       "      <th>image</th>\n",
       "      <th>is_FK_Advantage_product</th>\n",
       "      <th>description</th>\n",
       "      <th>product_rating</th>\n",
       "      <th>overall_rating</th>\n",
       "      <th>brand</th>\n",
       "      <th>product_specifications</th>\n",
       "    </tr>\n",
       "  </thead>\n",
       "  <tbody>\n",
       "    <tr>\n",
       "      <th>28</th>\n",
       "      <td>171e0bcea390c17fd70e3ffa6c2cd187</td>\n",
       "      <td>2016-01-03 20:56:50 +0000</td>\n",
       "      <td>http://www.flipkart.com/fdt-women-s-leggings/p...</td>\n",
       "      <td>FDT WOMEN'S Leggings Pants</td>\n",
       "      <td>[\"Clothing &gt;&gt; Women's Clothing &gt;&gt; Fusion Wear ...</td>\n",
       "      <td>LJGEB2KMCMMHHFC7</td>\n",
       "      <td>698</td>\n",
       "      <td>362</td>\n",
       "      <td>[\"http://img6a.flixcart.com/image/legging-jegg...</td>\n",
       "      <td>False</td>\n",
       "      <td>FDT Women's Leggings Pants - Buy Parrot Green ...</td>\n",
       "      <td>No rating available</td>\n",
       "      <td>No rating available</td>\n",
       "      <td>NaN</td>\n",
       "      <td>{\"product_specification\"=&gt;[{\"key\"=&gt;\"Number of ...</td>\n",
       "    </tr>\n",
       "  </tbody>\n",
       "</table>\n",
       "</div>"
      ],
      "text/plain": [
       "                             uniq_id            crawl_timestamp  \\\n",
       "28  171e0bcea390c17fd70e3ffa6c2cd187  2016-01-03 20:56:50 +0000   \n",
       "\n",
       "                                          product_url  \\\n",
       "28  http://www.flipkart.com/fdt-women-s-leggings/p...   \n",
       "\n",
       "                  product_name  \\\n",
       "28  FDT WOMEN'S Leggings Pants   \n",
       "\n",
       "                                product_category_tree               pid  \\\n",
       "28  [\"Clothing >> Women's Clothing >> Fusion Wear ...  LJGEB2KMCMMHHFC7   \n",
       "\n",
       "    retail_price  discounted_price  \\\n",
       "28           698               362   \n",
       "\n",
       "                                                image  \\\n",
       "28  [\"http://img6a.flixcart.com/image/legging-jegg...   \n",
       "\n",
       "    is_FK_Advantage_product  \\\n",
       "28                    False   \n",
       "\n",
       "                                          description       product_rating  \\\n",
       "28  FDT Women's Leggings Pants - Buy Parrot Green ...  No rating available   \n",
       "\n",
       "         overall_rating brand  \\\n",
       "28  No rating available   NaN   \n",
       "\n",
       "                               product_specifications  \n",
       "28  {\"product_specification\"=>[{\"key\"=>\"Number of ...  "
      ]
     },
     "execution_count": 10,
     "metadata": {},
     "output_type": "execute_result"
    }
   ],
   "source": [
    "# check the same in amazon dataset\n",
    "amazon[amazon.product_name.str.contains(\"FDT WOMEN'S Leggings\")]"
   ]
  },
  {
   "cell_type": "code",
   "execution_count": 11,
   "id": "bb655ce8",
   "metadata": {},
   "outputs": [],
   "source": [
    "# renaming the columns in dataset for better understanding\n",
    "amazon.rename(columns = {'product_name':'product_name_in_amazon'}, inplace = True)\n",
    "amazon.rename(columns = {'retail_price':'retail_price_in_amazon'}, inplace = True)\n",
    "amazon.rename(columns = {'discounted_price':'discounted_price_in_amazon'}, inplace = True)"
   ]
  },
  {
   "cell_type": "code",
   "execution_count": 12,
   "id": "638b534d",
   "metadata": {},
   "outputs": [
    {
     "data": {
      "text/plain": [
       "uniq_id                          0\n",
       "crawl_timestamp                  0\n",
       "product_url                      0\n",
       "product_name_in_amazon           0\n",
       "product_category_tree            0\n",
       "pid                              0\n",
       "retail_price_in_amazon           0\n",
       "discounted_price_in_amazon       0\n",
       "image                            3\n",
       "is_FK_Advantage_product          0\n",
       "description                      2\n",
       "product_rating                   0\n",
       "overall_rating                   0\n",
       "brand                         5864\n",
       "product_specifications          14\n",
       "dtype: int64"
      ]
     },
     "execution_count": 12,
     "metadata": {},
     "output_type": "execute_result"
    }
   ],
   "source": [
    "# checking null values\n",
    "amazon.isnull().sum()"
   ]
  },
  {
   "cell_type": "code",
   "execution_count": 13,
   "id": "646745de",
   "metadata": {},
   "outputs": [
    {
     "data": {
      "text/plain": [
       "Index(['uniq_id', 'crawl_timestamp', 'product_url', 'product_name_in_flipkart',\n",
       "       'product_category_tree', 'pid', 'retail_price_in_flipkart',\n",
       "       'discounted_price_in_flipkart', 'image', 'is_FK_Advantage_product',\n",
       "       'description', 'product_rating', 'overall_rating', 'brand',\n",
       "       'product_specifications'],\n",
       "      dtype='object')"
      ]
     },
     "execution_count": 13,
     "metadata": {},
     "output_type": "execute_result"
    }
   ],
   "source": [
    "flipkart.columns"
   ]
  },
  {
   "cell_type": "code",
   "execution_count": 14,
   "id": "c5070855",
   "metadata": {},
   "outputs": [
    {
     "data": {
      "text/plain": [
       "Index(['uniq_id', 'crawl_timestamp', 'product_url', 'product_name_in_amazon',\n",
       "       'product_category_tree', 'pid', 'retail_price_in_amazon',\n",
       "       'discounted_price_in_amazon', 'image', 'is_FK_Advantage_product',\n",
       "       'description', 'product_rating', 'overall_rating', 'brand',\n",
       "       'product_specifications'],\n",
       "      dtype='object')"
      ]
     },
     "execution_count": 14,
     "metadata": {},
     "output_type": "execute_result"
    }
   ],
   "source": [
    "amazon.columns"
   ]
  },
  {
   "cell_type": "code",
   "execution_count": 15,
   "id": "d3d42178",
   "metadata": {},
   "outputs": [],
   "source": [
    "# Now lets call a function to check whether products in flipkart are similar to the product in Amazon and if it is we can print\n",
    "# both product names with their retail price and discount price side by side for that we are defining a function.\n",
    "# for that I am defining a function called similarproduct and changing all product names to lower case so that it can find the \n",
    "# product."
   ]
  },
  {
   "cell_type": "code",
   "execution_count": 20,
   "id": "0e89758b",
   "metadata": {},
   "outputs": [],
   "source": [
    "def get_similarproduct(fk_product_name):\n",
    "    fp = flipkart[flipkart.product_name_in_flipkart.str.lower() == fk_product_name.lower()][\n",
    "                                        ['product_name_in_flipkart','retail_price_in_flipkart','discounted_price_in_flipkart']]\n",
    "    az = amazon[amazon.product_name_in_amazon.str.lower().str.contains(fk_product_name.lower())][\n",
    "                                        ['product_name_in_amazon','retail_price_in_amazon','discounted_price_in_amazon']]\n",
    "    prod = pd.concat([fp,az],axis = 1)\n",
    "    return prod\n",
    "    \n",
    "    "
   ]
  },
  {
   "cell_type": "code",
   "execution_count": 21,
   "id": "71452d57",
   "metadata": {},
   "outputs": [],
   "source": [
    "# Done with defining the function and now I created a dataframe with required columns fro both amazon and flipkart and \n",
    "# concatinated both dataframes and stored it in prod and now check whether it is working or not."
   ]
  },
  {
   "cell_type": "code",
   "execution_count": 22,
   "id": "951ca40e",
   "metadata": {},
   "outputs": [
    {
     "data": {
      "text/html": [
       "<div>\n",
       "<style scoped>\n",
       "    .dataframe tbody tr th:only-of-type {\n",
       "        vertical-align: middle;\n",
       "    }\n",
       "\n",
       "    .dataframe tbody tr th {\n",
       "        vertical-align: top;\n",
       "    }\n",
       "\n",
       "    .dataframe thead th {\n",
       "        text-align: right;\n",
       "    }\n",
       "</style>\n",
       "<table border=\"1\" class=\"dataframe\">\n",
       "  <thead>\n",
       "    <tr style=\"text-align: right;\">\n",
       "      <th></th>\n",
       "      <th>product_name_in_flipkart</th>\n",
       "      <th>retail_price_in_flipkart</th>\n",
       "      <th>discounted_price_in_flipkart</th>\n",
       "      <th>product_name_in_amazon</th>\n",
       "      <th>retail_price_in_amazon</th>\n",
       "      <th>discounted_price_in_amazon</th>\n",
       "    </tr>\n",
       "  </thead>\n",
       "  <tbody>\n",
       "    <tr>\n",
       "      <th>28</th>\n",
       "      <td>FDT Women's Leggings</td>\n",
       "      <td>699.0</td>\n",
       "      <td>309.0</td>\n",
       "      <td>FDT WOMEN'S Leggings Pants</td>\n",
       "      <td>698</td>\n",
       "      <td>362</td>\n",
       "    </tr>\n",
       "  </tbody>\n",
       "</table>\n",
       "</div>"
      ],
      "text/plain": [
       "   product_name_in_flipkart  retail_price_in_flipkart  \\\n",
       "28     FDT Women's Leggings                     699.0   \n",
       "\n",
       "    discounted_price_in_flipkart      product_name_in_amazon  \\\n",
       "28                         309.0  FDT WOMEN'S Leggings Pants   \n",
       "\n",
       "    retail_price_in_amazon  discounted_price_in_amazon  \n",
       "28                     698                         362  "
      ]
     },
     "execution_count": 22,
     "metadata": {},
     "output_type": "execute_result"
    }
   ],
   "source": [
    "get_similarproduct(\"FDT WOMEN'S Leggings\")"
   ]
  },
  {
   "cell_type": "code",
   "execution_count": 23,
   "id": "70e1771e",
   "metadata": {},
   "outputs": [],
   "source": [
    "# Yes its showing the output as we want. Lets try on some different product names "
   ]
  },
  {
   "cell_type": "code",
   "execution_count": 24,
   "id": "e24e2ca8",
   "metadata": {},
   "outputs": [
    {
     "data": {
      "text/html": [
       "<div>\n",
       "<style scoped>\n",
       "    .dataframe tbody tr th:only-of-type {\n",
       "        vertical-align: middle;\n",
       "    }\n",
       "\n",
       "    .dataframe tbody tr th {\n",
       "        vertical-align: top;\n",
       "    }\n",
       "\n",
       "    .dataframe thead th {\n",
       "        text-align: right;\n",
       "    }\n",
       "</style>\n",
       "<table border=\"1\" class=\"dataframe\">\n",
       "  <thead>\n",
       "    <tr style=\"text-align: right;\">\n",
       "      <th></th>\n",
       "      <th>product_name_in_flipkart</th>\n",
       "      <th>retail_price_in_flipkart</th>\n",
       "      <th>discounted_price_in_flipkart</th>\n",
       "      <th>product_name_in_amazon</th>\n",
       "      <th>retail_price_in_amazon</th>\n",
       "      <th>discounted_price_in_amazon</th>\n",
       "    </tr>\n",
       "  </thead>\n",
       "  <tbody>\n",
       "    <tr>\n",
       "      <th>0</th>\n",
       "      <td>Alisha Solid Women's Cycling Shorts</td>\n",
       "      <td>999.0</td>\n",
       "      <td>379.0</td>\n",
       "      <td>Alisha Solid Women's Cycling Shorts</td>\n",
       "      <td>982</td>\n",
       "      <td>438</td>\n",
       "    </tr>\n",
       "    <tr>\n",
       "      <th>3</th>\n",
       "      <td>Alisha Solid Women's Cycling Shorts</td>\n",
       "      <td>699.0</td>\n",
       "      <td>267.0</td>\n",
       "      <td>Alisha Solid Women's Cycling Shorts</td>\n",
       "      <td>694</td>\n",
       "      <td>325</td>\n",
       "    </tr>\n",
       "    <tr>\n",
       "      <th>6</th>\n",
       "      <td>Alisha Solid Women's Cycling Shorts</td>\n",
       "      <td>1199.0</td>\n",
       "      <td>479.0</td>\n",
       "      <td>Alisha Solid Women's Cycling Shorts</td>\n",
       "      <td>1198</td>\n",
       "      <td>602</td>\n",
       "    </tr>\n",
       "    <tr>\n",
       "      <th>9</th>\n",
       "      <td>Alisha Solid Women's Cycling Shorts</td>\n",
       "      <td>1199.0</td>\n",
       "      <td>479.0</td>\n",
       "      <td>Alisha Solid Women's Cycling Shorts</td>\n",
       "      <td>1197</td>\n",
       "      <td>542</td>\n",
       "    </tr>\n",
       "    <tr>\n",
       "      <th>13</th>\n",
       "      <td>Alisha Solid Women's Cycling Shorts</td>\n",
       "      <td>999.0</td>\n",
       "      <td>379.0</td>\n",
       "      <td>Alisha Solid Women's Cycling Shorts</td>\n",
       "      <td>990</td>\n",
       "      <td>479</td>\n",
       "    </tr>\n",
       "    <tr>\n",
       "      <th>15</th>\n",
       "      <td>Alisha Solid Women's Cycling Shorts</td>\n",
       "      <td>999.0</td>\n",
       "      <td>379.0</td>\n",
       "      <td>Alisha Solid Women's Cycling Shorts</td>\n",
       "      <td>995</td>\n",
       "      <td>434</td>\n",
       "    </tr>\n",
       "    <tr>\n",
       "      <th>21</th>\n",
       "      <td>Alisha Solid Women's Cycling Shorts</td>\n",
       "      <td>1040.0</td>\n",
       "      <td>550.0</td>\n",
       "      <td>ALISHA SOLID WOMEN'S CYCLING ShorTS</td>\n",
       "      <td>-2</td>\n",
       "      <td>0</td>\n",
       "    </tr>\n",
       "  </tbody>\n",
       "</table>\n",
       "</div>"
      ],
      "text/plain": [
       "               product_name_in_flipkart  retail_price_in_flipkart  \\\n",
       "0   Alisha Solid Women's Cycling Shorts                     999.0   \n",
       "3   Alisha Solid Women's Cycling Shorts                     699.0   \n",
       "6   Alisha Solid Women's Cycling Shorts                    1199.0   \n",
       "9   Alisha Solid Women's Cycling Shorts                    1199.0   \n",
       "13  Alisha Solid Women's Cycling Shorts                     999.0   \n",
       "15  Alisha Solid Women's Cycling Shorts                     999.0   \n",
       "21  Alisha Solid Women's Cycling Shorts                    1040.0   \n",
       "\n",
       "    discounted_price_in_flipkart               product_name_in_amazon  \\\n",
       "0                          379.0  Alisha Solid Women's Cycling Shorts   \n",
       "3                          267.0  Alisha Solid Women's Cycling Shorts   \n",
       "6                          479.0  Alisha Solid Women's Cycling Shorts   \n",
       "9                          479.0  Alisha Solid Women's Cycling Shorts   \n",
       "13                         379.0  Alisha Solid Women's Cycling Shorts   \n",
       "15                         379.0  Alisha Solid Women's Cycling Shorts   \n",
       "21                         550.0  ALISHA SOLID WOMEN'S CYCLING ShorTS   \n",
       "\n",
       "    retail_price_in_amazon  discounted_price_in_amazon  \n",
       "0                      982                         438  \n",
       "3                      694                         325  \n",
       "6                     1198                         602  \n",
       "9                     1197                         542  \n",
       "13                     990                         479  \n",
       "15                     995                         434  \n",
       "21                      -2                           0  "
      ]
     },
     "execution_count": 24,
     "metadata": {},
     "output_type": "execute_result"
    }
   ],
   "source": [
    "get_similarproduct(\"Alisha Solid Women's Cycling Shorts\")"
   ]
  },
  {
   "cell_type": "code",
   "execution_count": 25,
   "id": "6071b3ec",
   "metadata": {},
   "outputs": [
    {
     "data": {
      "text/html": [
       "<div>\n",
       "<style scoped>\n",
       "    .dataframe tbody tr th:only-of-type {\n",
       "        vertical-align: middle;\n",
       "    }\n",
       "\n",
       "    .dataframe tbody tr th {\n",
       "        vertical-align: top;\n",
       "    }\n",
       "\n",
       "    .dataframe thead th {\n",
       "        text-align: right;\n",
       "    }\n",
       "</style>\n",
       "<table border=\"1\" class=\"dataframe\">\n",
       "  <thead>\n",
       "    <tr style=\"text-align: right;\">\n",
       "      <th></th>\n",
       "      <th>product_name_in_flipkart</th>\n",
       "      <th>retail_price_in_flipkart</th>\n",
       "      <th>discounted_price_in_flipkart</th>\n",
       "      <th>product_name_in_amazon</th>\n",
       "      <th>retail_price_in_amazon</th>\n",
       "      <th>discounted_price_in_amazon</th>\n",
       "    </tr>\n",
       "  </thead>\n",
       "  <tbody>\n",
       "    <tr>\n",
       "      <th>2</th>\n",
       "      <td>AW Bellies</td>\n",
       "      <td>999.0</td>\n",
       "      <td>499.0</td>\n",
       "      <td>AW Bellies</td>\n",
       "      <td>991</td>\n",
       "      <td>551</td>\n",
       "    </tr>\n",
       "  </tbody>\n",
       "</table>\n",
       "</div>"
      ],
      "text/plain": [
       "  product_name_in_flipkart  retail_price_in_flipkart  \\\n",
       "2               AW Bellies                     999.0   \n",
       "\n",
       "   discounted_price_in_flipkart product_name_in_amazon  \\\n",
       "2                         499.0             AW Bellies   \n",
       "\n",
       "   retail_price_in_amazon  discounted_price_in_amazon  \n",
       "2                     991                         551  "
      ]
     },
     "execution_count": 25,
     "metadata": {},
     "output_type": "execute_result"
    }
   ],
   "source": [
    "get_similarproduct(\"AW Bellies\")"
   ]
  },
  {
   "cell_type": "code",
   "execution_count": 27,
   "id": "5c7d7122",
   "metadata": {},
   "outputs": [
    {
     "data": {
      "text/html": [
       "<div>\n",
       "<style scoped>\n",
       "    .dataframe tbody tr th:only-of-type {\n",
       "        vertical-align: middle;\n",
       "    }\n",
       "\n",
       "    .dataframe tbody tr th {\n",
       "        vertical-align: top;\n",
       "    }\n",
       "\n",
       "    .dataframe thead th {\n",
       "        text-align: right;\n",
       "    }\n",
       "</style>\n",
       "<table border=\"1\" class=\"dataframe\">\n",
       "  <thead>\n",
       "    <tr style=\"text-align: right;\">\n",
       "      <th></th>\n",
       "      <th>product_name_in_flipkart</th>\n",
       "      <th>retail_price_in_flipkart</th>\n",
       "      <th>discounted_price_in_flipkart</th>\n",
       "      <th>product_name_in_amazon</th>\n",
       "      <th>retail_price_in_amazon</th>\n",
       "      <th>discounted_price_in_amazon</th>\n",
       "    </tr>\n",
       "  </thead>\n",
       "  <tbody>\n",
       "    <tr>\n",
       "      <th>1</th>\n",
       "      <td>FabHomeDecor Fabric Double Sofa Bed</td>\n",
       "      <td>32157.0</td>\n",
       "      <td>22646.0</td>\n",
       "      <td>FabHomeDecor Fabric Double Sofa Bed</td>\n",
       "      <td>32143</td>\n",
       "      <td>29121</td>\n",
       "    </tr>\n",
       "    <tr>\n",
       "      <th>7</th>\n",
       "      <td>FabHomeDecor Fabric Double Sofa Bed</td>\n",
       "      <td>32157.0</td>\n",
       "      <td>22646.0</td>\n",
       "      <td>FabHomeDecor Fabric Double Sofa Bed</td>\n",
       "      <td>32137</td>\n",
       "      <td>28664</td>\n",
       "    </tr>\n",
       "    <tr>\n",
       "      <th>16</th>\n",
       "      <td>FabHomeDecor Fabric Double Sofa Bed</td>\n",
       "      <td>32157.0</td>\n",
       "      <td>22646.0</td>\n",
       "      <td>FabHomeDecor Fabric Double Sofa Bed</td>\n",
       "      <td>32150</td>\n",
       "      <td>28650</td>\n",
       "    </tr>\n",
       "    <tr>\n",
       "      <th>19</th>\n",
       "      <td>FabHomeDecor Fabric Double Sofa Bed</td>\n",
       "      <td>32157.0</td>\n",
       "      <td>22646.0</td>\n",
       "      <td>FabHomeDecor Fabric Double Sofa Bed</td>\n",
       "      <td>32144</td>\n",
       "      <td>26423</td>\n",
       "    </tr>\n",
       "  </tbody>\n",
       "</table>\n",
       "</div>"
      ],
      "text/plain": [
       "               product_name_in_flipkart  retail_price_in_flipkart  \\\n",
       "1   FabHomeDecor Fabric Double Sofa Bed                   32157.0   \n",
       "7   FabHomeDecor Fabric Double Sofa Bed                   32157.0   \n",
       "16  FabHomeDecor Fabric Double Sofa Bed                   32157.0   \n",
       "19  FabHomeDecor Fabric Double Sofa Bed                   32157.0   \n",
       "\n",
       "    discounted_price_in_flipkart               product_name_in_amazon  \\\n",
       "1                        22646.0  FabHomeDecor Fabric Double Sofa Bed   \n",
       "7                        22646.0  FabHomeDecor Fabric Double Sofa Bed   \n",
       "16                       22646.0  FabHomeDecor Fabric Double Sofa Bed   \n",
       "19                       22646.0  FabHomeDecor Fabric Double Sofa Bed   \n",
       "\n",
       "    retail_price_in_amazon  discounted_price_in_amazon  \n",
       "1                    32143                       29121  \n",
       "7                    32137                       28664  \n",
       "16                   32150                       28650  \n",
       "19                   32144                       26423  "
      ]
     },
     "execution_count": 27,
     "metadata": {},
     "output_type": "execute_result"
    }
   ],
   "source": [
    "get_similarproduct(\"FabHomeDecor Fabric Double Sofa Bed\")"
   ]
  },
  {
   "cell_type": "markdown",
   "id": "31fb33eb",
   "metadata": {},
   "source": [
    "#### Conclusion:-\n",
    "                 Here by I concluded that we can give the input of product name and we will get the required output in both Flipkart and amazon and also gives the retaail and discounted prices from both websites by using the above function. We can also compare the prices and we can go ahead. \n",
    "                "
   ]
  },
  {
   "cell_type": "code",
   "execution_count": null,
   "id": "10b588f2",
   "metadata": {},
   "outputs": [],
   "source": []
  }
 ],
 "metadata": {
  "kernelspec": {
   "display_name": "Python 3",
   "language": "python",
   "name": "python3"
  },
  "language_info": {
   "codemirror_mode": {
    "name": "ipython",
    "version": 3
   },
   "file_extension": ".py",
   "mimetype": "text/x-python",
   "name": "python",
   "nbconvert_exporter": "python",
   "pygments_lexer": "ipython3",
   "version": "3.8.8"
  }
 },
 "nbformat": 4,
 "nbformat_minor": 5
}
